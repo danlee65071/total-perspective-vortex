{
 "cells": [
  {
   "cell_type": "code",
   "execution_count": 1,
   "metadata": {},
   "outputs": [],
   "source": [
    "import numpy as np\n",
    "import mne"
   ]
  },
  {
   "cell_type": "code",
   "execution_count": 2,
   "metadata": {},
   "outputs": [
    {
     "name": "stdout",
     "output_type": "stream",
     "text": [
      "Using default location ~/mne_data for sample...\n",
      "Creating ~/mne_data\n"
     ]
    },
    {
     "name": "stderr",
     "output_type": "stream",
     "text": [
      "Downloading file 'MNE-sample-data-processed.tar.gz' from 'https://osf.io/86qa2/download?version=6' to '/Users/hcharlsi/mne_data'.\n",
      " 41%|███████████████▋                      | 684M/1.65G [00:21<00:27, 35.6MB/s]"
     ]
    },
    {
     "ename": "OSError",
     "evalue": "[Errno 28] No space left on device",
     "output_type": "error",
     "traceback": [
      "\u001b[0;31m---------------------------------------------------------------------------\u001b[0m",
      "\u001b[0;31mOSError\u001b[0m                                   Traceback (most recent call last)",
      "File \u001b[0;32m~/Desktop/tpv/tpv/lib/python3.9/site-packages/pooch/downloaders.py:212\u001b[0m, in \u001b[0;36mHTTPDownloader.__call__\u001b[0;34m(self, url, output_file, pooch)\u001b[0m\n\u001b[1;32m    <a href='file:///Users/hcharlsi/Desktop/tpv/tpv/lib/python3.9/site-packages/pooch/downloaders.py?line=210'>211</a>\u001b[0m output_file\u001b[39m.\u001b[39mwrite(chunk)\n\u001b[0;32m--> <a href='file:///Users/hcharlsi/Desktop/tpv/tpv/lib/python3.9/site-packages/pooch/downloaders.py?line=211'>212</a>\u001b[0m output_file\u001b[39m.\u001b[39;49mflush()\n\u001b[1;32m    <a href='file:///Users/hcharlsi/Desktop/tpv/tpv/lib/python3.9/site-packages/pooch/downloaders.py?line=212'>213</a>\u001b[0m \u001b[39mif\u001b[39;00m \u001b[39mself\u001b[39m\u001b[39m.\u001b[39mprogressbar:\n\u001b[1;32m    <a href='file:///Users/hcharlsi/Desktop/tpv/tpv/lib/python3.9/site-packages/pooch/downloaders.py?line=213'>214</a>\u001b[0m     \u001b[39m# Use the chunk size here because chunk may be much\u001b[39;00m\n\u001b[1;32m    <a href='file:///Users/hcharlsi/Desktop/tpv/tpv/lib/python3.9/site-packages/pooch/downloaders.py?line=214'>215</a>\u001b[0m     \u001b[39m# larger if the data are decompressed by requests after\u001b[39;00m\n\u001b[1;32m    <a href='file:///Users/hcharlsi/Desktop/tpv/tpv/lib/python3.9/site-packages/pooch/downloaders.py?line=215'>216</a>\u001b[0m     \u001b[39m# reading (happens with text files).\u001b[39;00m\n",
      "\u001b[0;31mOSError\u001b[0m: [Errno 28] No space left on device",
      "\nDuring handling of the above exception, another exception occurred:\n",
      "\u001b[0;31mOSError\u001b[0m                                   Traceback (most recent call last)",
      "Cell \u001b[0;32mIn [2], line 1\u001b[0m\n\u001b[0;32m----> 1\u001b[0m sample_data_folder \u001b[38;5;241m=\u001b[39m \u001b[43mmne\u001b[49m\u001b[38;5;241;43m.\u001b[39;49m\u001b[43mdatasets\u001b[49m\u001b[38;5;241;43m.\u001b[39;49m\u001b[43msample\u001b[49m\u001b[38;5;241;43m.\u001b[39;49m\u001b[43mdata_path\u001b[49m\u001b[43m(\u001b[49m\u001b[43m)\u001b[49m\n",
      "File \u001b[0;32m<decorator-gen-548>:12\u001b[0m, in \u001b[0;36mdata_path\u001b[0;34m(path, force_update, update_path, download, verbose)\u001b[0m\n",
      "File \u001b[0;32m~/Desktop/tpv/tpv/lib/python3.9/site-packages/mne/datasets/sample/sample.py:14\u001b[0m, in \u001b[0;36mdata_path\u001b[0;34m(path, force_update, update_path, download, verbose)\u001b[0m\n\u001b[1;32m     <a href='file:///Users/hcharlsi/Desktop/tpv/tpv/lib/python3.9/site-packages/mne/datasets/sample/sample.py?line=10'>11</a>\u001b[0m \u001b[39m@verbose\u001b[39m\n\u001b[1;32m     <a href='file:///Users/hcharlsi/Desktop/tpv/tpv/lib/python3.9/site-packages/mne/datasets/sample/sample.py?line=11'>12</a>\u001b[0m \u001b[39mdef\u001b[39;00m \u001b[39mdata_path\u001b[39m(path\u001b[39m=\u001b[39m\u001b[39mNone\u001b[39;00m, force_update\u001b[39m=\u001b[39m\u001b[39mFalse\u001b[39;00m, update_path\u001b[39m=\u001b[39m\u001b[39mTrue\u001b[39;00m,\n\u001b[1;32m     <a href='file:///Users/hcharlsi/Desktop/tpv/tpv/lib/python3.9/site-packages/mne/datasets/sample/sample.py?line=12'>13</a>\u001b[0m               download\u001b[39m=\u001b[39m\u001b[39mTrue\u001b[39;00m, \u001b[39m*\u001b[39m, verbose\u001b[39m=\u001b[39m\u001b[39mNone\u001b[39;00m):  \u001b[39m# noqa: D103\u001b[39;00m\n\u001b[0;32m---> <a href='file:///Users/hcharlsi/Desktop/tpv/tpv/lib/python3.9/site-packages/mne/datasets/sample/sample.py?line=13'>14</a>\u001b[0m     \u001b[39mreturn\u001b[39;00m _download_mne_dataset(\n\u001b[1;32m     <a href='file:///Users/hcharlsi/Desktop/tpv/tpv/lib/python3.9/site-packages/mne/datasets/sample/sample.py?line=14'>15</a>\u001b[0m         name\u001b[39m=\u001b[39;49m\u001b[39m'\u001b[39;49m\u001b[39msample\u001b[39;49m\u001b[39m'\u001b[39;49m, processor\u001b[39m=\u001b[39;49m\u001b[39m'\u001b[39;49m\u001b[39muntar\u001b[39;49m\u001b[39m'\u001b[39;49m, path\u001b[39m=\u001b[39;49mpath,\n\u001b[1;32m     <a href='file:///Users/hcharlsi/Desktop/tpv/tpv/lib/python3.9/site-packages/mne/datasets/sample/sample.py?line=15'>16</a>\u001b[0m         force_update\u001b[39m=\u001b[39;49mforce_update, update_path\u001b[39m=\u001b[39;49mupdate_path,\n\u001b[1;32m     <a href='file:///Users/hcharlsi/Desktop/tpv/tpv/lib/python3.9/site-packages/mne/datasets/sample/sample.py?line=16'>17</a>\u001b[0m         download\u001b[39m=\u001b[39;49mdownload)\n",
      "File \u001b[0;32m~/Desktop/tpv/tpv/lib/python3.9/site-packages/mne/datasets/utils.py:176\u001b[0m, in \u001b[0;36m_download_mne_dataset\u001b[0;34m(name, processor, path, force_update, update_path, download, accept)\u001b[0m\n\u001b[1;32m    <a href='file:///Users/hcharlsi/Desktop/tpv/tpv/lib/python3.9/site-packages/mne/datasets/utils.py?line=172'>173</a>\u001b[0m         this_dataset[\u001b[39m'\u001b[39m\u001b[39mdataset_name\u001b[39m\u001b[39m'\u001b[39m] \u001b[39m=\u001b[39m name\n\u001b[1;32m    <a href='file:///Users/hcharlsi/Desktop/tpv/tpv/lib/python3.9/site-packages/mne/datasets/utils.py?line=173'>174</a>\u001b[0m         dataset_params\u001b[39m.\u001b[39mappend(this_dataset)\n\u001b[0;32m--> <a href='file:///Users/hcharlsi/Desktop/tpv/tpv/lib/python3.9/site-packages/mne/datasets/utils.py?line=175'>176</a>\u001b[0m \u001b[39mreturn\u001b[39;00m fetch_dataset(dataset_params\u001b[39m=\u001b[39;49mdataset_params, processor\u001b[39m=\u001b[39;49mprocessor_,\n\u001b[1;32m    <a href='file:///Users/hcharlsi/Desktop/tpv/tpv/lib/python3.9/site-packages/mne/datasets/utils.py?line=176'>177</a>\u001b[0m                      path\u001b[39m=\u001b[39;49mpath, force_update\u001b[39m=\u001b[39;49mforce_update,\n\u001b[1;32m    <a href='file:///Users/hcharlsi/Desktop/tpv/tpv/lib/python3.9/site-packages/mne/datasets/utils.py?line=177'>178</a>\u001b[0m                      update_path\u001b[39m=\u001b[39;49mupdate_path, download\u001b[39m=\u001b[39;49mdownload,\n\u001b[1;32m    <a href='file:///Users/hcharlsi/Desktop/tpv/tpv/lib/python3.9/site-packages/mne/datasets/utils.py?line=178'>179</a>\u001b[0m                      accept\u001b[39m=\u001b[39;49maccept)\n",
      "File \u001b[0;32m~/Desktop/tpv/tpv/lib/python3.9/site-packages/mne/datasets/_fetch.py:258\u001b[0m, in \u001b[0;36mfetch_dataset\u001b[0;34m(dataset_params, processor, path, force_update, update_path, download, check_version, return_version, accept, auth, token)\u001b[0m\n\u001b[1;32m    <a href='file:///Users/hcharlsi/Desktop/tpv/tpv/lib/python3.9/site-packages/mne/datasets/_fetch.py?line=254'>255</a>\u001b[0m \u001b[39mfor\u001b[39;00m idx \u001b[39min\u001b[39;00m \u001b[39mrange\u001b[39m(\u001b[39mlen\u001b[39m(names)):\n\u001b[1;32m    <a href='file:///Users/hcharlsi/Desktop/tpv/tpv/lib/python3.9/site-packages/mne/datasets/_fetch.py?line=255'>256</a>\u001b[0m     \u001b[39m# fetch and unpack the data\u001b[39;00m\n\u001b[1;32m    <a href='file:///Users/hcharlsi/Desktop/tpv/tpv/lib/python3.9/site-packages/mne/datasets/_fetch.py?line=256'>257</a>\u001b[0m     archive_name \u001b[39m=\u001b[39m dataset_params[idx][\u001b[39m\"\u001b[39m\u001b[39marchive_name\u001b[39m\u001b[39m\"\u001b[39m]\n\u001b[0;32m--> <a href='file:///Users/hcharlsi/Desktop/tpv/tpv/lib/python3.9/site-packages/mne/datasets/_fetch.py?line=257'>258</a>\u001b[0m     fetcher\u001b[39m.\u001b[39;49mfetch(\n\u001b[1;32m    <a href='file:///Users/hcharlsi/Desktop/tpv/tpv/lib/python3.9/site-packages/mne/datasets/_fetch.py?line=258'>259</a>\u001b[0m         fname\u001b[39m=\u001b[39;49marchive_name, downloader\u001b[39m=\u001b[39;49mdownloader, processor\u001b[39m=\u001b[39;49mprocessor\n\u001b[1;32m    <a href='file:///Users/hcharlsi/Desktop/tpv/tpv/lib/python3.9/site-packages/mne/datasets/_fetch.py?line=259'>260</a>\u001b[0m     )\n\u001b[1;32m    <a href='file:///Users/hcharlsi/Desktop/tpv/tpv/lib/python3.9/site-packages/mne/datasets/_fetch.py?line=260'>261</a>\u001b[0m     \u001b[39m# after unpacking, remove the archive file\u001b[39;00m\n\u001b[1;32m    <a href='file:///Users/hcharlsi/Desktop/tpv/tpv/lib/python3.9/site-packages/mne/datasets/_fetch.py?line=261'>262</a>\u001b[0m     \u001b[39mif\u001b[39;00m processor \u001b[39mis\u001b[39;00m \u001b[39mnot\u001b[39;00m \u001b[39mNone\u001b[39;00m:\n",
      "File \u001b[0;32m~/Desktop/tpv/tpv/lib/python3.9/site-packages/pooch/core.py:587\u001b[0m, in \u001b[0;36mPooch.fetch\u001b[0;34m(self, fname, processor, downloader, progressbar)\u001b[0m\n\u001b[1;32m    <a href='file:///Users/hcharlsi/Desktop/tpv/tpv/lib/python3.9/site-packages/pooch/core.py?line=583'>584</a>\u001b[0m     \u001b[39mif\u001b[39;00m downloader \u001b[39mis\u001b[39;00m \u001b[39mNone\u001b[39;00m:\n\u001b[1;32m    <a href='file:///Users/hcharlsi/Desktop/tpv/tpv/lib/python3.9/site-packages/pooch/core.py?line=584'>585</a>\u001b[0m         downloader \u001b[39m=\u001b[39m choose_downloader(url, progressbar\u001b[39m=\u001b[39mprogressbar)\n\u001b[0;32m--> <a href='file:///Users/hcharlsi/Desktop/tpv/tpv/lib/python3.9/site-packages/pooch/core.py?line=586'>587</a>\u001b[0m     stream_download(\n\u001b[1;32m    <a href='file:///Users/hcharlsi/Desktop/tpv/tpv/lib/python3.9/site-packages/pooch/core.py?line=587'>588</a>\u001b[0m         url,\n\u001b[1;32m    <a href='file:///Users/hcharlsi/Desktop/tpv/tpv/lib/python3.9/site-packages/pooch/core.py?line=588'>589</a>\u001b[0m         full_path,\n\u001b[1;32m    <a href='file:///Users/hcharlsi/Desktop/tpv/tpv/lib/python3.9/site-packages/pooch/core.py?line=589'>590</a>\u001b[0m         known_hash,\n\u001b[1;32m    <a href='file:///Users/hcharlsi/Desktop/tpv/tpv/lib/python3.9/site-packages/pooch/core.py?line=590'>591</a>\u001b[0m         downloader,\n\u001b[1;32m    <a href='file:///Users/hcharlsi/Desktop/tpv/tpv/lib/python3.9/site-packages/pooch/core.py?line=591'>592</a>\u001b[0m         pooch\u001b[39m=\u001b[39;49m\u001b[39mself\u001b[39;49m,\n\u001b[1;32m    <a href='file:///Users/hcharlsi/Desktop/tpv/tpv/lib/python3.9/site-packages/pooch/core.py?line=592'>593</a>\u001b[0m         retry_if_failed\u001b[39m=\u001b[39;49m\u001b[39mself\u001b[39;49m\u001b[39m.\u001b[39;49mretry_if_failed,\n\u001b[1;32m    <a href='file:///Users/hcharlsi/Desktop/tpv/tpv/lib/python3.9/site-packages/pooch/core.py?line=593'>594</a>\u001b[0m     )\n\u001b[1;32m    <a href='file:///Users/hcharlsi/Desktop/tpv/tpv/lib/python3.9/site-packages/pooch/core.py?line=595'>596</a>\u001b[0m \u001b[39mif\u001b[39;00m processor \u001b[39mis\u001b[39;00m \u001b[39mnot\u001b[39;00m \u001b[39mNone\u001b[39;00m:\n\u001b[1;32m    <a href='file:///Users/hcharlsi/Desktop/tpv/tpv/lib/python3.9/site-packages/pooch/core.py?line=596'>597</a>\u001b[0m     \u001b[39mreturn\u001b[39;00m processor(\u001b[39mstr\u001b[39m(full_path), action, \u001b[39mself\u001b[39m)\n",
      "File \u001b[0;32m~/Desktop/tpv/tpv/lib/python3.9/site-packages/pooch/core.py:772\u001b[0m, in \u001b[0;36mstream_download\u001b[0;34m(url, fname, known_hash, downloader, pooch, retry_if_failed)\u001b[0m\n\u001b[1;32m    <a href='file:///Users/hcharlsi/Desktop/tpv/tpv/lib/python3.9/site-packages/pooch/core.py?line=767'>768</a>\u001b[0m \u001b[39mtry\u001b[39;00m:\n\u001b[1;32m    <a href='file:///Users/hcharlsi/Desktop/tpv/tpv/lib/python3.9/site-packages/pooch/core.py?line=768'>769</a>\u001b[0m     \u001b[39m# Stream the file to a temporary so that we can safely check its\u001b[39;00m\n\u001b[1;32m    <a href='file:///Users/hcharlsi/Desktop/tpv/tpv/lib/python3.9/site-packages/pooch/core.py?line=769'>770</a>\u001b[0m     \u001b[39m# hash before overwriting the original.\u001b[39;00m\n\u001b[1;32m    <a href='file:///Users/hcharlsi/Desktop/tpv/tpv/lib/python3.9/site-packages/pooch/core.py?line=770'>771</a>\u001b[0m     \u001b[39mwith\u001b[39;00m temporary_file(path\u001b[39m=\u001b[39m\u001b[39mstr\u001b[39m(fname\u001b[39m.\u001b[39mparent)) \u001b[39mas\u001b[39;00m tmp:\n\u001b[0;32m--> <a href='file:///Users/hcharlsi/Desktop/tpv/tpv/lib/python3.9/site-packages/pooch/core.py?line=771'>772</a>\u001b[0m         downloader(url, tmp, pooch)\n\u001b[1;32m    <a href='file:///Users/hcharlsi/Desktop/tpv/tpv/lib/python3.9/site-packages/pooch/core.py?line=772'>773</a>\u001b[0m         hash_matches(tmp, known_hash, strict\u001b[39m=\u001b[39m\u001b[39mTrue\u001b[39;00m, source\u001b[39m=\u001b[39m\u001b[39mstr\u001b[39m(fname\u001b[39m.\u001b[39mname))\n\u001b[1;32m    <a href='file:///Users/hcharlsi/Desktop/tpv/tpv/lib/python3.9/site-packages/pooch/core.py?line=773'>774</a>\u001b[0m         shutil\u001b[39m.\u001b[39mmove(tmp, \u001b[39mstr\u001b[39m(fname))\n",
      "File \u001b[0;32m~/Desktop/tpv/tpv/lib/python3.9/site-packages/pooch/downloaders.py:228\u001b[0m, in \u001b[0;36mHTTPDownloader.__call__\u001b[0;34m(self, url, output_file, pooch)\u001b[0m\n\u001b[1;32m    <a href='file:///Users/hcharlsi/Desktop/tpv/tpv/lib/python3.9/site-packages/pooch/downloaders.py?line=225'>226</a>\u001b[0m \u001b[39mfinally\u001b[39;00m:\n\u001b[1;32m    <a href='file:///Users/hcharlsi/Desktop/tpv/tpv/lib/python3.9/site-packages/pooch/downloaders.py?line=226'>227</a>\u001b[0m     \u001b[39mif\u001b[39;00m ispath:\n\u001b[0;32m--> <a href='file:///Users/hcharlsi/Desktop/tpv/tpv/lib/python3.9/site-packages/pooch/downloaders.py?line=227'>228</a>\u001b[0m         output_file\u001b[39m.\u001b[39;49mclose()\n",
      "\u001b[0;31mOSError\u001b[0m: [Errno 28] No space left on device"
     ]
    },
    {
     "name": "stderr",
     "output_type": "stream",
     "text": [
      " 42%|███████████████▊                      | 686M/1.65G [00:40<00:27, 35.6MB/s]"
     ]
    }
   ],
   "source": [
    "sample_data_folder = mne.datasets.sample.data_path()"
   ]
  },
  {
   "cell_type": "code",
   "execution_count": null,
   "metadata": {},
   "outputs": [],
   "source": []
  }
 ],
 "metadata": {
  "interpreter": {
   "hash": "bebcc450a999faf6bea22fd76ea78c2974e33760ceb62068505deaee5785b497"
  },
  "kernelspec": {
   "display_name": "Python 3.9.10 ('tpv': venv)",
   "language": "python",
   "name": "python3"
  },
  "language_info": {
   "codemirror_mode": {
    "name": "ipython",
    "version": 3
   },
   "file_extension": ".py",
   "mimetype": "text/x-python",
   "name": "python",
   "nbconvert_exporter": "python",
   "pygments_lexer": "ipython3",
   "version": "3.9.10"
  },
  "orig_nbformat": 4
 },
 "nbformat": 4,
 "nbformat_minor": 2
}
